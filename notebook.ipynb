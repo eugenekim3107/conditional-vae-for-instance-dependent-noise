{
 "cells": [
  {
   "cell_type": "code",
   "execution_count": 1,
   "metadata": {},
   "outputs": [],
   "source": [
    "import torch\n",
    "import pandas as pd\n",
    "import numpy as np\n",
    "from torch.utils.data import DataLoader, Dataset\n",
    "from torchvision import transforms\n",
    "import torch.nn as nn"
   ]
  },
  {
   "cell_type": "code",
   "execution_count": 8,
   "metadata": {},
   "outputs": [],
   "source": [
    "data = pd.read_csv(\"MNIST/train.csv\").values"
   ]
  },
  {
   "cell_type": "code",
   "execution_count": 44,
   "metadata": {},
   "outputs": [],
   "source": [
    "class CNN(nn.Module):\n",
    "    def __init__(self, in_channel, out_channel):\n",
    "        super(CNN, self).__init__()\n",
    "        self.in_channel = in_channel\n",
    "        self.out_channel = out_channel\n",
    "        self.conv1 = nn.Sequential(\n",
    "            nn.Conv2d(in_channel, 16, 5, bias=False),\n",
    "            nn.LeakyReLU(0.1),\n",
    "            nn.MaxPool2d(3, stride=2, padding=1)\n",
    "        )\n",
    "        self.conv2 = nn.Sequential(\n",
    "            nn.Conv2d(16, 32, 3, bias=False),\n",
    "            nn.LeakyReLU(0.1),\n",
    "            nn.MaxPool2d(3, stride=2, padding=1)\n",
    "        )\n",
    "        self.out = nn.Sequential(\n",
    "            nn.Linear(800, out_channel),\n",
    "            nn.Sigmoid()\n",
    "        )\n",
    "    \n",
    "    def forward(self, x):\n",
    "        x = self.conv1(x)\n",
    "        x = self.conv2(x)\n",
    "        x = x.view(x.size(0), -1)\n",
    "        x = self.out(x)\n",
    "        return x"
   ]
  },
  {
   "cell_type": "code",
   "execution_count": 47,
   "metadata": {},
   "outputs": [],
   "source": [
    "test = torch.ones((5,1,28,28))"
   ]
  },
  {
   "cell_type": "code",
   "execution_count": 41,
   "metadata": {},
   "outputs": [
    {
     "ename": "SyntaxError",
     "evalue": "unexpected EOF while parsing (<ipython-input-41-02799ad92d9c>, line 9)",
     "output_type": "error",
     "traceback": [
      "\u001b[0;36m  File \u001b[0;32m\"<ipython-input-41-02799ad92d9c>\"\u001b[0;36m, line \u001b[0;32m9\u001b[0m\n\u001b[0;31m    \u001b[0m\n\u001b[0m    ^\u001b[0m\n\u001b[0;31mSyntaxError\u001b[0m\u001b[0;31m:\u001b[0m unexpected EOF while parsing\n"
     ]
    }
   ],
   "source": [
    "class IDNGenerator:\n",
    "    def __init__(self, X, y, p, epochs, model, optimizer):\n",
    "        self.X = X\n",
    "        self.y = y\n",
    "        self.p = p\n",
    "        self.epochs = epochs\n",
    "        self.model = model\n",
    "        self.optimizer = optimizer\n",
    "        \n",
    "    def train_fn(self, X, y, )\n",
    "    \n",
    "    def generate(self):\n",
    "        "
   ]
  },
  {
   "cell_type": "code",
   "execution_count": 38,
   "metadata": {},
   "outputs": [],
   "source": [
    "class MNISTNoiseDataset(Dataset):\n",
    "    def __init__(self, csv_file, transform=None, noise_percentage=10):\n",
    "        self.data = pd.read_csv(csv_file).values\n",
    "        self.transform = transform\n",
    "        self.noise_percentage = noise_percentage\n",
    "        \n",
    "    def __len__(self):\n",
    "        return self.data.shape[0]\n",
    "        \n",
    "    def __getitem__(self, index):\n",
    "        X = self.data[index, 1:].reshape(28,28)\n",
    "        y = self.data[index, 0]\n",
    "        if self.transform:\n",
    "            X = self.transform(X)\n",
    "        return X, y"
   ]
  },
  {
   "cell_type": "code",
   "execution_count": 39,
   "metadata": {},
   "outputs": [],
   "source": [
    "dataset = MNISTNoiseDataset(csv_file = \"MNIST/train.csv\", transform=transforms.ToTensor(), noise_percentage=10)"
   ]
  },
  {
   "cell_type": "code",
   "execution_count": 40,
   "metadata": {},
   "outputs": [
    {
     "data": {
      "text/plain": [
       "(tensor([[[  0,   0,   0,   0,   0,   0,   0,   0,   0,   0,   0,   0,   0,   0,\n",
       "             0,   0,   0,   0,   0,   0,   0,   0,   0,   0,   0,   0,   0,   0],\n",
       "          [  0,   0,   0,   0,   0,   0,   0,   0,   0,   0,   0,   0,   0,   0,\n",
       "             0,   0,   0,   0,   0,   0,   0,   0,   0,   0,   0,   0,   0,   0],\n",
       "          [  0,   0,   0,   0,   0,   0,   0,   0,   0,   0,   0,   0,   0,   0,\n",
       "             0,   0,   0,   0,   0,   0,   0,   0,   0,   0,   0,   0,   0,   0],\n",
       "          [  0,   0,   0,   0,   0,   0,   0,   0,   0,   0,   0,   0,   0,   0,\n",
       "             0,   0,   0,   0,   0,   0,   0,   0,   0,   0,   0,   0,   0,   0],\n",
       "          [  0,   0,   0,   0,   0,   0,   0,   0,   0,   0,   0,   0,   0,   0,\n",
       "             0,   0,   0,   0,   0,   0, 188, 255,  94,   0,   0,   0,   0,   0],\n",
       "          [  0,   0,   0,   0,   0,   0,   0,   0,   0,   0,   0,   0,   0,   0,\n",
       "             0,   0,   0,   0,   0, 191, 250, 253,  93,   0,   0,   0,   0,   0],\n",
       "          [  0,   0,   0,   0,   0,   0,   0,   0,   0,   0,   0,   0,   0,   0,\n",
       "             0,   0,   0,   0, 123, 248, 253, 167,  10,   0,   0,   0,   0,   0],\n",
       "          [  0,   0,   0,   0,   0,   0,   0,   0,   0,   0,   0,   0,   0,   0,\n",
       "             0,   0,   0,  80, 247, 253, 208,  13,   0,   0,   0,   0,   0,   0],\n",
       "          [  0,   0,   0,   0,   0,   0,   0,   0,   0,   0,   0,   0,   0,   0,\n",
       "             0,   0,  29, 207, 253, 235,  77,   0,   0,   0,   0,   0,   0,   0],\n",
       "          [  0,   0,   0,   0,   0,   0,   0,   0,   0,   0,   0,   0,   0,   0,\n",
       "             0,  54, 209, 253, 253,  88,   0,   0,   0,   0,   0,   0,   0,   0],\n",
       "          [  0,   0,   0,   0,   0,   0,   0,   0,   0,   0,   0,   0,   0,   0,\n",
       "            93, 254, 253, 238, 170,  17,   0,   0,   0,   0,   0,   0,   0,   0],\n",
       "          [  0,   0,   0,   0,   0,   0,   0,   0,   0,   0,   0,   0,   0,  23,\n",
       "           210, 254, 253, 159,   0,   0,   0,   0,   0,   0,   0,   0,   0,   0],\n",
       "          [  0,   0,   0,   0,   0,   0,   0,   0,   0,   0,   0,   0,  16, 209,\n",
       "           253, 254, 240,  81,   0,   0,   0,   0,   0,   0,   0,   0,   0,   0],\n",
       "          [  0,   0,   0,   0,   0,   0,   0,   0,   0,   0,   0,   0,  27, 253,\n",
       "           253, 254,  13,   0,   0,   0,   0,   0,   0,   0,   0,   0,   0,   0],\n",
       "          [  0,   0,   0,   0,   0,   0,   0,   0,   0,   0,   0,  20, 206, 254,\n",
       "           254, 198,   7,   0,   0,   0,   0,   0,   0,   0,   0,   0,   0,   0],\n",
       "          [  0,   0,   0,   0,   0,   0,   0,   0,   0,   0,   0, 168, 253, 253,\n",
       "           196,   7,   0,   0,   0,   0,   0,   0,   0,   0,   0,   0,   0,   0],\n",
       "          [  0,   0,   0,   0,   0,   0,   0,   0,   0,   0,  20, 203, 253, 248,\n",
       "            76,   0,   0,   0,   0,   0,   0,   0,   0,   0,   0,   0,   0,   0],\n",
       "          [  0,   0,   0,   0,   0,   0,   0,   0,   0,  22, 188, 253, 245,  93,\n",
       "             0,   0,   0,   0,   0,   0,   0,   0,   0,   0,   0,   0,   0,   0],\n",
       "          [  0,   0,   0,   0,   0,   0,   0,   0,   0, 103, 253, 253, 191,   0,\n",
       "             0,   0,   0,   0,   0,   0,   0,   0,   0,   0,   0,   0,   0,   0],\n",
       "          [  0,   0,   0,   0,   0,   0,   0,   0,  89, 240, 253, 195,  25,   0,\n",
       "             0,   0,   0,   0,   0,   0,   0,   0,   0,   0,   0,   0,   0,   0],\n",
       "          [  0,   0,   0,   0,   0,   0,   0,  15, 220, 253, 253,  80,   0,   0,\n",
       "             0,   0,   0,   0,   0,   0,   0,   0,   0,   0,   0,   0,   0,   0],\n",
       "          [  0,   0,   0,   0,   0,   0,   0,  94, 253, 253, 253,  94,   0,   0,\n",
       "             0,   0,   0,   0,   0,   0,   0,   0,   0,   0,   0,   0,   0,   0],\n",
       "          [  0,   0,   0,   0,   0,   0,   0,  89, 251, 253, 250, 131,   0,   0,\n",
       "             0,   0,   0,   0,   0,   0,   0,   0,   0,   0,   0,   0,   0,   0],\n",
       "          [  0,   0,   0,   0,   0,   0,   0,   0, 214, 218,  95,   0,   0,   0,\n",
       "             0,   0,   0,   0,   0,   0,   0,   0,   0,   0,   0,   0,   0,   0],\n",
       "          [  0,   0,   0,   0,   0,   0,   0,   0,   0,   0,   0,   0,   0,   0,\n",
       "             0,   0,   0,   0,   0,   0,   0,   0,   0,   0,   0,   0,   0,   0],\n",
       "          [  0,   0,   0,   0,   0,   0,   0,   0,   0,   0,   0,   0,   0,   0,\n",
       "             0,   0,   0,   0,   0,   0,   0,   0,   0,   0,   0,   0,   0,   0],\n",
       "          [  0,   0,   0,   0,   0,   0,   0,   0,   0,   0,   0,   0,   0,   0,\n",
       "             0,   0,   0,   0,   0,   0,   0,   0,   0,   0,   0,   0,   0,   0],\n",
       "          [  0,   0,   0,   0,   0,   0,   0,   0,   0,   0,   0,   0,   0,   0,\n",
       "             0,   0,   0,   0,   0,   0,   0,   0,   0,   0,   0,   0,   0,   0]]]),\n",
       " 1)"
      ]
     },
     "execution_count": 40,
     "metadata": {},
     "output_type": "execute_result"
    }
   ],
   "source": []
  },
  {
   "cell_type": "code",
   "execution_count": 42,
   "metadata": {},
   "outputs": [],
   "source": [
    "y = 1"
   ]
  },
  {
   "cell_type": "code",
   "execution_count": 41,
   "metadata": {},
   "outputs": [
    {
     "data": {
      "text/plain": [
       "array([[1, 0, 0, ..., 0, 0, 0],\n",
       "       [0, 0, 0, ..., 0, 0, 0],\n",
       "       [1, 0, 0, ..., 0, 0, 0],\n",
       "       ...,\n",
       "       [7, 0, 0, ..., 0, 0, 0],\n",
       "       [6, 0, 0, ..., 0, 0, 0],\n",
       "       [9, 0, 0, ..., 0, 0, 0]])"
      ]
     },
     "execution_count": 41,
     "metadata": {},
     "output_type": "execute_result"
    }
   ],
   "source": [
    "np.random.randint([y-1, y+])"
   ]
  },
  {
   "cell_type": "code",
   "execution_count": null,
   "metadata": {},
   "outputs": [],
   "source": []
  }
 ],
 "metadata": {
  "kernelspec": {
   "display_name": "Python 3",
   "language": "python",
   "name": "python3"
  },
  "language_info": {
   "codemirror_mode": {
    "name": "ipython",
    "version": 3
   },
   "file_extension": ".py",
   "mimetype": "text/x-python",
   "name": "python",
   "nbconvert_exporter": "python",
   "pygments_lexer": "ipython3",
   "version": "3.8.5"
  }
 },
 "nbformat": 4,
 "nbformat_minor": 4
}
